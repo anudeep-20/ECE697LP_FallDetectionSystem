{
 "cells": [
  {
   "cell_type": "code",
   "execution_count": 1,
   "id": "f81b51f7",
   "metadata": {},
   "outputs": [],
   "source": [
    "import numpy as np\n",
    "import pandas as pd\n",
    "from sklearn.metrics import confusion_matrix, accuracy_score\n",
    "import time"
   ]
  },
  {
   "cell_type": "code",
   "execution_count": 2,
   "id": "796cdb60",
   "metadata": {},
   "outputs": [],
   "source": [
    "import warnings\n",
    "warnings.filterwarnings(\"ignore\", category=DeprecationWarning)\n",
    "warnings.filterwarnings(\"ignore\", category=FutureWarning)"
   ]
  },
  {
   "cell_type": "code",
   "execution_count": 3,
   "id": "2516b404",
   "metadata": {},
   "outputs": [],
   "source": [
    "fall = pd.read_csv('Dataset/Fall.csv', header = None)\n",
    "non_fall = pd.read_csv('Dataset/NonFall.csv', header = None)\n",
    "\n",
    "non_fall[6] = np.zeros(len(non_fall), dtype=int)\n",
    "fall[6] = np.ones(len(fall), dtype=int)\n",
    "fall = fall.sample(frac=1).reset_index(drop=True).iloc[:len(non_fall), :]\n",
    "\n",
    "cmbd_data = pd.concat([fall,non_fall])\n",
    "cmbd_data = cmbd_data.sample(frac=1).reset_index(drop=True)\n",
    "\n",
    "data_x = cmbd_data.iloc[:,:6].values\n",
    "y_inp = cmbd_data.iloc[:,6].values"
   ]
  },
  {
   "cell_type": "code",
   "execution_count": 4,
   "id": "946d8d00",
   "metadata": {},
   "outputs": [
    {
     "name": "stdout",
     "output_type": "stream",
     "text": [
      "Mean = {-4.00828713357483,-2.2663390575960944,2.869847985595639,-0.3299605730430636,-1.753439539402048,5.006502957021771,}\n",
      "Scale = {6.163171870275944,5.5564830026680685,5.888023482049667,3.2898309258374496,6.838216404218108,4.574600635818,}\n"
     ]
    }
   ],
   "source": [
    "from sklearn.preprocessing import StandardScaler\n",
    "sc = StandardScaler()\n",
    "x_inp = sc.fit_transform(data_x)\n",
    "print(\"Mean = {\", end=\"\")\n",
    "for m in sc.mean_:\n",
    "    print(m, end=\",\")\n",
    "print(\"}\")\n",
    "print(\"Scale = {\", end=\"\")\n",
    "for s in sc.scale_:\n",
    "    print(s, end=\",\")\n",
    "print(\"}\")"
   ]
  },
  {
   "cell_type": "code",
   "execution_count": 5,
   "id": "d467b873",
   "metadata": {},
   "outputs": [],
   "source": [
    "from sklearn.model_selection import train_test_split\n",
    "x_train, x_test, y_train, y_test = train_test_split(x_inp,y_inp,random_state = 0)"
   ]
  },
  {
   "cell_type": "code",
   "execution_count": 6,
   "id": "b9a6a82e",
   "metadata": {},
   "outputs": [
    {
     "name": "stdout",
     "output_type": "stream",
     "text": [
      "Confusion Matrix (Train Data): \n",
      " [[103016   2295]\n",
      " [   937 104521]]\n",
      "Accuracy (Train Data): 98.47 %\n",
      "Classification Time per datapoint:  3.105750083176765e-08\n",
      "Confusion Matrix (Test Data): \n",
      " [[34388   814]\n",
      " [  332 34723]]\n",
      "Accuracy (Test Data): 98.37 %\n"
     ]
    }
   ],
   "source": [
    "from sklearn.linear_model import LogisticRegression\n",
    "classifier = LogisticRegression(random_state=0)\n",
    "classifier.fit(x_train, y_train)\n",
    "y_pred = classifier.predict(x_train)\n",
    "\n",
    "cm = confusion_matrix(y_train, y_pred)\n",
    "print(\"Confusion Matrix (Train Data): \\n\", cm)\n",
    "accuracy = accuracy_score(y_train, y_pred)\n",
    "print(\"Accuracy (Train Data): {:.2f} %\".format(accuracy*100))\n",
    "\n",
    "startTime = time.time()\n",
    "y_pred = classifier.predict(x_test)\n",
    "print(\"Classification Time per datapoint: \", (time.time() - startTime)/70257)\n",
    "cm = confusion_matrix(y_test, y_pred)\n",
    "print(\"Confusion Matrix (Test Data): \\n\", cm)\n",
    "accuracy = accuracy_score(y_test, y_pred)\n",
    "print(\"Accuracy (Test Data): {:.2f} %\".format(accuracy*100))"
   ]
  },
  {
   "cell_type": "code",
   "execution_count": 7,
   "id": "b55abb51",
   "metadata": {},
   "outputs": [
    {
     "name": "stdout",
     "output_type": "stream",
     "text": [
      "Confusion Matrix (Train Data): \n",
      " [[104967    344]\n",
      " [   204 105254]]\n",
      "Accuracy (Train Data): 99.74 %\n",
      "Classification Time per datapoint:  8.481433244054703e-05\n",
      "Confusion Matrix (Test Data): \n",
      " [[35033   169]\n",
      " [  111 34944]]\n",
      "Accuracy (Test Data): 99.60 %\n"
     ]
    }
   ],
   "source": [
    "from sklearn.neighbors import KNeighborsClassifier\n",
    "classifier = KNeighborsClassifier(n_neighbors=5, metric='minkowski', p=2)\n",
    "classifier.fit(x_train, y_train)\n",
    "y_pred = classifier.predict(x_train)\n",
    "\n",
    "cm = confusion_matrix(y_train, y_pred)\n",
    "print(\"Confusion Matrix (Train Data): \\n\", cm)\n",
    "accuracy = accuracy_score(y_train, y_pred)\n",
    "print(\"Accuracy (Train Data): {:.2f} %\".format(accuracy*100))\n",
    "\n",
    "startTime = time.time()\n",
    "y_pred = classifier.predict(x_test)\n",
    "print(\"Classification Time per datapoint: \", (time.time() - startTime)/70257)\n",
    "cm = confusion_matrix(y_test, y_pred)\n",
    "print(\"Confusion Matrix (Test Data): \\n\", cm)\n",
    "accuracy = accuracy_score(y_test, y_pred)\n",
    "print(\"Accuracy (Test Data): {:.2f} %\".format(accuracy*100))"
   ]
  },
  {
   "cell_type": "code",
   "execution_count": 8,
   "id": "6a544974",
   "metadata": {},
   "outputs": [
    {
     "name": "stdout",
     "output_type": "stream",
     "text": [
      "Confusion Matrix (Train Data): \n",
      " [[104787    524]\n",
      " [   534 104924]]\n",
      "Accuracy (Train Data): 99.50 %\n",
      "Classification Time per datapoint:  0.0005572840940660967\n",
      "Confusion Matrix (Test Data): \n",
      " [[34989   213]\n",
      " [  180 34875]]\n",
      "Accuracy (Test Data): 99.44 %\n"
     ]
    }
   ],
   "source": [
    "from sklearn.svm import SVC\n",
    "classifier = SVC(kernel = 'rbf', random_state=0) # rbf (Radial Basis function) is same as gaussian kernel \n",
    "classifier.fit(x_train, y_train)\n",
    "y_pred = classifier.predict(x_train)\n",
    "\n",
    "cm = confusion_matrix(y_train, y_pred)\n",
    "print(\"Confusion Matrix (Train Data): \\n\", cm)\n",
    "accuracy = accuracy_score(y_train, y_pred)\n",
    "print(\"Accuracy (Train Data): {:.2f} %\".format(accuracy*100))\n",
    "\n",
    "startTime = time.time()\n",
    "y_pred = classifier.predict(x_test)\n",
    "print(\"Classification Time per datapoint: \", (time.time() - startTime)/70257)\n",
    "cm = confusion_matrix(y_test, y_pred)\n",
    "print(\"Confusion Matrix (Test Data): \\n\", cm)\n",
    "accuracy = accuracy_score(y_test, y_pred)\n",
    "print(\"Accuracy (Test Data): {:.2f} %\".format(accuracy*100))"
   ]
  },
  {
   "cell_type": "code",
   "execution_count": 9,
   "id": "0c5397dc",
   "metadata": {},
   "outputs": [
    {
     "name": "stdout",
     "output_type": "stream",
     "text": [
      "Confusion Matrix (Train Data): \n",
      " [[98137  7174]\n",
      " [25696 79762]]\n",
      "Accuracy (Train Data): 84.40 %\n",
      "Classification Time per datapoint:  1.8663006072376462e-07\n",
      "Confusion Matrix (Test Data): \n",
      " [[32804  2398]\n",
      " [ 8534 26521]]\n",
      "Accuracy (Test Data): 84.44 %\n"
     ]
    }
   ],
   "source": [
    "from sklearn.naive_bayes import GaussianNB\n",
    "classifier = GaussianNB()\n",
    "classifier.fit(x_train, y_train)\n",
    "y_pred = classifier.predict(x_train)\n",
    "\n",
    "cm = confusion_matrix(y_train, y_pred)\n",
    "print(\"Confusion Matrix (Train Data): \\n\", cm)\n",
    "accuracy = accuracy_score(y_train, y_pred)\n",
    "print(\"Accuracy (Train Data): {:.2f} %\".format(accuracy*100))\n",
    "\n",
    "startTime = time.time()\n",
    "y_pred = classifier.predict(x_test)\n",
    "print(\"Classification Time per datapoint: \", (time.time() - startTime)/70257)\n",
    "cm = confusion_matrix(y_test, y_pred)\n",
    "print(\"Confusion Matrix (Test Data): \\n\", cm)\n",
    "accuracy = accuracy_score(y_test, y_pred)\n",
    "print(\"Accuracy (Test Data): {:.2f} %\".format(accuracy*100))"
   ]
  },
  {
   "cell_type": "code",
   "execution_count": 17,
   "id": "20c9bf70",
   "metadata": {},
   "outputs": [
    {
     "name": "stdout",
     "output_type": "stream",
     "text": [
      "Confusion Matrix (Train Data): \n",
      " [[105311      0]\n",
      " [     0 105458]]\n",
      "Accuracy (Train Data): 100.00 %\n",
      "Classification Time per datapoint:  2.6085314400527927e-07\n",
      "Confusion Matrix (Test Data): \n",
      " [[35201     1]\n",
      " [    0 35055]]\n",
      "Accuracy (Test Data): 100.00 %\n"
     ]
    }
   ],
   "source": [
    "from sklearn.ensemble import RandomForestClassifier\n",
    "classifier = RandomForestClassifier(n_estimators=3, min_samples_split = 2, min_samples_leaf = 2, criterion='entropy')\n",
    "classifier.fit(x_train, y_train)\n",
    "y_pred = classifier.predict(x_train)\n",
    "\n",
    "cm = confusion_matrix(y_train, y_pred)\n",
    "print(\"Confusion Matrix (Train Data): \\n\", cm)\n",
    "accuracy = accuracy_score(y_train, y_pred)\n",
    "print(\"Accuracy (Train Data): {:.2f} %\".format(accuracy*100))\n",
    "\n",
    "startTime = time.time()\n",
    "y_pred = classifier.predict(x_test)\n",
    "print(\"Classification Time per datapoint: \", (time.time() - startTime)/70257)\n",
    "cm = confusion_matrix(y_test, y_pred)\n",
    "print(\"Confusion Matrix (Test Data): \\n\", cm)\n",
    "accuracy = accuracy_score(y_test, y_pred)\n",
    "print(\"Accuracy (Test Data): {:.2f} %\".format(accuracy*100))"
   ]
  },
  {
   "cell_type": "code",
   "execution_count": 18,
   "id": "0b948694",
   "metadata": {},
   "outputs": [],
   "source": [
    "from micromlgen import port\n",
    "\n",
    "with open(\"D:\\\\Documents\\\\UMass_ECE\\\\2nd_Sem\\\\ECE697LP_LowPowerEmbedded\\\\Project\\\\ESP32_MPU\\\\model.h\", 'w') as f:\n",
    "    f.write(port(classifier))"
   ]
  },
  {
   "cell_type": "code",
   "execution_count": null,
   "id": "f2d41854",
   "metadata": {},
   "outputs": [],
   "source": [
    "bandPort.close()"
   ]
  },
  {
   "cell_type": "code",
   "execution_count": null,
   "id": "77d07a40",
   "metadata": {},
   "outputs": [],
   "source": [
    "import serial, time\n",
    "\n",
    "bandPort = serial.Serial(port = \"COM7\", baudrate=9600, timeout=0.1, stopbits=serial.STOPBITS_ONE)\n",
    "\n",
    "x_inp = []\n",
    "FALL_THRES = 20\n",
    "\n",
    "while(1):\n",
    "        try:\n",
    "            serialString = bandPort.readline().strip().decode(\"utf-8\")\n",
    "            inp = serialString.split(\",\")\n",
    "            inp = list(map(float, inp))\n",
    "            \n",
    "            if(len(inp) == 6 and len(x_inp) > FALL_THRES):\n",
    "                x_inp = x_inp[1:]\n",
    "                y_pred = classifier.predict(sc.transform(x_inp))\n",
    "                out = np.bincount(y_pred).argmax()\n",
    "                print(np.bincount(y_pred))\n",
    "                \n",
    "                if (out == 0):\n",
    "                    print(\"Its Not a Fall\")\n",
    "                elif(out == 1):\n",
    "                    print(\"Its a Fall\")\n",
    "\n",
    "                bandPort.flush()\n",
    "            elif(len(inp) == 6):\n",
    "                x_inp.append(inp)\n",
    "                \n",
    "        except Exception:\n",
    "            continue   "
   ]
  },
  {
   "cell_type": "code",
   "execution_count": null,
   "id": "0eba06d3",
   "metadata": {},
   "outputs": [],
   "source": []
  }
 ],
 "metadata": {
  "kernelspec": {
   "display_name": "Python 3 (ipykernel)",
   "language": "python",
   "name": "python3"
  },
  "language_info": {
   "codemirror_mode": {
    "name": "ipython",
    "version": 3
   },
   "file_extension": ".py",
   "mimetype": "text/x-python",
   "name": "python",
   "nbconvert_exporter": "python",
   "pygments_lexer": "ipython3",
   "version": "3.9.13"
  }
 },
 "nbformat": 4,
 "nbformat_minor": 5
}
